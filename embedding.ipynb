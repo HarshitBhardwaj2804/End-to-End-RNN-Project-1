{
 "cells": [
  {
   "cell_type": "code",
   "execution_count": 3,
   "id": "2bc462ea",
   "metadata": {},
   "outputs": [],
   "source": [
    "from tensorflow.keras.preprocessing.text import one_hot"
   ]
  },
  {
   "cell_type": "code",
   "execution_count": 25,
   "id": "dbbb38b0",
   "metadata": {},
   "outputs": [],
   "source": [
    "sent = [\n",
    "    \"the glass of milk\",\n",
    "    \"the glass of water\",\n",
    "    \"the cup of tea\",\n",
    "    \"I am a good boy\",\n",
    "    \"I am a good developer\",\n",
    "    \"understand the meaning of words\",\n",
    "    \"your videos are good\"\n",
    "] "
   ]
  },
  {
   "cell_type": "code",
   "execution_count": 26,
   "id": "e967966c",
   "metadata": {},
   "outputs": [],
   "source": [
    "## Defining the vocabulary size\n",
    "vocab_size = 10000"
   ]
  },
  {
   "cell_type": "code",
   "execution_count": 27,
   "id": "14d1f2f4",
   "metadata": {},
   "outputs": [],
   "source": [
    "### One hot representation for every word\n",
    "one_hot_repr = [one_hot(words, vocab_size) for words in sent]"
   ]
  },
  {
   "cell_type": "code",
   "execution_count": 28,
   "id": "c6d16b1c",
   "metadata": {},
   "outputs": [
    {
     "data": {
      "text/plain": [
       "[[9770, 5316, 6291, 1545],\n",
       " [9770, 5316, 6291, 3826],\n",
       " [9770, 6281, 6291, 6209],\n",
       " [8169, 4338, 8139, 3393, 5982],\n",
       " [8169, 4338, 8139, 3393, 6348],\n",
       " [3319, 9770, 8239, 6291, 285],\n",
       " [3844, 4677, 3812, 3393]]"
      ]
     },
     "execution_count": 28,
     "metadata": {},
     "output_type": "execute_result"
    }
   ],
   "source": [
    "one_hot_repr"
   ]
  },
  {
   "cell_type": "code",
   "execution_count": 29,
   "id": "2f65e443",
   "metadata": {},
   "outputs": [],
   "source": [
    "## [9770, 5316, 6291, 1545] These are the index of each word in the followng sentences."
   ]
  },
  {
   "cell_type": "code",
   "execution_count": 30,
   "id": "39e1d48c",
   "metadata": {},
   "outputs": [],
   "source": [
    "## Word embeddings representation\n",
    "from tensorflow.keras.layers import Embedding\n",
    "from tensorflow.keras.preprocessing.sequence import pad_sequences\n",
    "from tensorflow.keras.models import Sequential\n"
   ]
  },
  {
   "cell_type": "code",
   "execution_count": 31,
   "id": "c98aae62",
   "metadata": {},
   "outputs": [],
   "source": [
    "import numpy as np"
   ]
  },
  {
   "cell_type": "code",
   "execution_count": 32,
   "id": "eee3922e",
   "metadata": {},
   "outputs": [],
   "source": [
    "sent_length = 8\n",
    "embedded_docs = pad_sequences(one_hot_repr, maxlen=sent_length, padding=\"pre\")"
   ]
  },
  {
   "cell_type": "code",
   "execution_count": 33,
   "id": "d1330dec",
   "metadata": {},
   "outputs": [
    {
     "data": {
      "text/plain": [
       "array([[   0,    0,    0,    0, 9770, 5316, 6291, 1545],\n",
       "       [   0,    0,    0,    0, 9770, 5316, 6291, 3826],\n",
       "       [   0,    0,    0,    0, 9770, 6281, 6291, 6209],\n",
       "       [   0,    0,    0, 8169, 4338, 8139, 3393, 5982],\n",
       "       [   0,    0,    0, 8169, 4338, 8139, 3393, 6348],\n",
       "       [   0,    0,    0, 3319, 9770, 8239, 6291,  285],\n",
       "       [   0,    0,    0,    0, 3844, 4677, 3812, 3393]])"
      ]
     },
     "execution_count": 33,
     "metadata": {},
     "output_type": "execute_result"
    }
   ],
   "source": [
    "embedded_docs"
   ]
  },
  {
   "cell_type": "code",
   "execution_count": 34,
   "id": "656a3b7b",
   "metadata": {},
   "outputs": [],
   "source": [
    "## feature representaiton\n",
    "dim = 10"
   ]
  },
  {
   "cell_type": "code",
   "execution_count": 36,
   "id": "76bdbf39",
   "metadata": {},
   "outputs": [
    {
     "name": "stdout",
     "output_type": "stream",
     "text": [
      "WARNING:tensorflow:From d:\\CODDING\\Python\\Python_Programs\\Projects\\RNN-Project_1\\myenv\\lib\\site-packages\\keras\\src\\optimizers\\__init__.py:309: The name tf.train.Optimizer is deprecated. Please use tf.compat.v1.train.Optimizer instead.\n",
      "\n"
     ]
    }
   ],
   "source": [
    "model = Sequential()\n",
    "model.add(Embedding(vocab_size, dim, input_length=sent_length))\n",
    "model.compile(\"adam\", \"mse\")"
   ]
  },
  {
   "cell_type": "code",
   "execution_count": 38,
   "id": "11dd8b91",
   "metadata": {},
   "outputs": [
    {
     "name": "stdout",
     "output_type": "stream",
     "text": [
      "Model: \"sequential_1\"\n",
      "_________________________________________________________________\n",
      " Layer (type)                Output Shape              Param #   \n",
      "=================================================================\n",
      " embedding_1 (Embedding)     (None, 8, 10)             100000    \n",
      "                                                                 \n",
      "=================================================================\n",
      "Total params: 100000 (390.62 KB)\n",
      "Trainable params: 100000 (390.62 KB)\n",
      "Non-trainable params: 0 (0.00 Byte)\n",
      "_________________________________________________________________\n"
     ]
    }
   ],
   "source": [
    "model.summary()"
   ]
  },
  {
   "cell_type": "code",
   "execution_count": 40,
   "id": "138b3a7d",
   "metadata": {},
   "outputs": [
    {
     "name": "stdout",
     "output_type": "stream",
     "text": [
      "1/1 [==============================] - 0s 65ms/step\n"
     ]
    },
    {
     "data": {
      "text/plain": [
       "array([[ 0.0159789 , -0.01623989, -0.0373496 ,  0.04412235,  0.00169795,\n",
       "         0.03152183, -0.0252824 ,  0.0315217 ,  0.0315467 , -0.02432262],\n",
       "       [ 0.0159789 , -0.01623989, -0.0373496 ,  0.04412235,  0.00169795,\n",
       "         0.03152183, -0.0252824 ,  0.0315217 ,  0.0315467 , -0.02432262],\n",
       "       [ 0.0159789 , -0.01623989, -0.0373496 ,  0.04412235,  0.00169795,\n",
       "         0.03152183, -0.0252824 ,  0.0315217 ,  0.0315467 , -0.02432262],\n",
       "       [ 0.0159789 , -0.01623989, -0.0373496 ,  0.04412235,  0.00169795,\n",
       "         0.03152183, -0.0252824 ,  0.0315217 ,  0.0315467 , -0.02432262],\n",
       "       [ 0.00450854,  0.0134494 , -0.00671814,  0.04582998,  0.01727257,\n",
       "        -0.04583775,  0.01244964, -0.04540888, -0.03309625, -0.02656169],\n",
       "       [ 0.02374139, -0.0381008 ,  0.03407439,  0.04998592,  0.03356215,\n",
       "         0.00139906,  0.03186529,  0.01457134,  0.00180969,  0.00239726],\n",
       "       [ 0.04124979,  0.00055131,  0.03805533,  0.01941791,  0.02066899,\n",
       "         0.04655876,  0.01868869,  0.00913059, -0.02212733,  0.04841167],\n",
       "       [-0.00991167,  0.014785  ,  0.0299636 , -0.02503053,  0.02771634,\n",
       "        -0.01469735,  0.01838708, -0.00212876, -0.02537907, -0.01115421]],\n",
       "      dtype=float32)"
      ]
     },
     "execution_count": 40,
     "metadata": {},
     "output_type": "execute_result"
    }
   ],
   "source": [
    "model.predict(embedded_docs[0])"
   ]
  },
  {
   "cell_type": "code",
   "execution_count": null,
   "id": "ab51dd5c",
   "metadata": {},
   "outputs": [],
   "source": []
  }
 ],
 "metadata": {
  "kernelspec": {
   "display_name": "myenv",
   "language": "python",
   "name": "python3"
  },
  "language_info": {
   "codemirror_mode": {
    "name": "ipython",
    "version": 3
   },
   "file_extension": ".py",
   "mimetype": "text/x-python",
   "name": "python",
   "nbconvert_exporter": "python",
   "pygments_lexer": "ipython3",
   "version": "3.10.0"
  }
 },
 "nbformat": 4,
 "nbformat_minor": 5
}
